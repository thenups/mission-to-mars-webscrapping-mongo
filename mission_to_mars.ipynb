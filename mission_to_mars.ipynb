{
 "cells": [
  {
   "cell_type": "markdown",
   "metadata": {},
   "source": [
    "# Mission to Mars"
   ]
  },
  {
   "cell_type": "markdown",
   "metadata": {},
   "source": [
    "## Step 1 - Scraping\n",
    "- Complete your initial scraping using Jupyter Notebook, BeautifulSoup, Pandas, and Requests/Splinter.\n",
    "- Create a Jupyter Notebook file called mission_to_mars.ipynb and use this to complete all of your scraping and analysis tasks. The following outlines what you need to scrape."
   ]
  },
  {
   "cell_type": "code",
   "execution_count": 1,
   "metadata": {
    "collapsed": true
   },
   "outputs": [],
   "source": [
    "# Dependencies\n",
    "from bs4 import BeautifulSoup as bs\n",
    "from splinter import Browser\n",
    "import time\n",
    "import pandas as pd\n",
    "import requests"
   ]
  },
  {
   "cell_type": "markdown",
   "metadata": {},
   "source": [
    "#### NASA Mars News\n",
    "Scrape the [NASA Mars News Site](https://mars.nasa.gov/news/) and collect the latest News Title and Paragragh Text. Assign the text to variables that you can reference later."
   ]
  },
  {
   "cell_type": "code",
   "execution_count": 2,
   "metadata": {
    "collapsed": true
   },
   "outputs": [],
   "source": [
    "# URL of page to be scraped\n",
    "nasaURL = 'https://mars.nasa.gov/news/'\n",
    "\n",
    "# Retrieve page with the requests module\n",
    "nasaResponse = requests.get(nasaURL)\n",
    "# Create BeautifulSoup object; parse with 'html.parser'\n",
    "nasaSoup = bs(nasaResponse.text, 'html.parser')"
   ]
  },
  {
   "cell_type": "code",
   "execution_count": 3,
   "metadata": {
    "collapsed": true
   },
   "outputs": [],
   "source": [
    "newsTitle = nasaSoup.find('div', {'class' : 'content_title'}).find('a').get_text().strip()\n",
    "newsP = nasaSoup.find('div', {'class' : 'rollover_description_inner'}).get_text().strip()"
   ]
  },
  {
   "cell_type": "code",
   "execution_count": 4,
   "metadata": {},
   "outputs": [
    {
     "data": {
      "text/plain": [
       "'Nearly a Decade After Mars Phoenix Landed, Another Look'"
      ]
     },
     "execution_count": 4,
     "metadata": {},
     "output_type": "execute_result"
    }
   ],
   "source": [
    "newsTitle"
   ]
  },
  {
   "cell_type": "code",
   "execution_count": 5,
   "metadata": {},
   "outputs": [
    {
     "data": {
      "text/plain": [
       "\"A recent view from Mars orbit of the site where NASA's Phoenix Mars mission landed on far-northern Mars nearly a decade ago captures changes.\""
      ]
     },
     "execution_count": 5,
     "metadata": {},
     "output_type": "execute_result"
    }
   ],
   "source": [
    "newsP"
   ]
  },
  {
   "cell_type": "markdown",
   "metadata": {},
   "source": [
    "#### JPL Mars Space Images - Featured Image\n",
    "- Visit the url for JPL's Featured Space Image [here](https://www.jpl.nasa.gov/spaceimages/?search=&category=Mars).\n",
    "- Use splinter to navigate the site and find the image url for the current - Featured Mars Image and assign the url string to a variable called featured_image_url.\n",
    "- Make sure to find the image url to the full size .jpg image.\n",
    "- Make sure to save a complete url string for this image."
   ]
  },
  {
   "cell_type": "code",
   "execution_count": 6,
   "metadata": {
    "collapsed": true
   },
   "outputs": [],
   "source": [
    "# Set paths\n",
    "executable_path = {'executable_path': '/usr/local/Cellar/chromedriver/2.35/bin/chromedriver'}\n",
    "browser = Browser('chrome', **executable_path, headless=False)\n",
    "jplURL = 'https://www.jpl.nasa.gov/spaceimages/?search=&category=Mars'\n",
    "\n",
    "# Retrieve page with the requests module\n",
    "nasaResponse = requests.get(nasaURL)\n",
    "# Create BeautifulSoup object; parse with 'html.parser'\n",
    "nasaSoup = bs(nasaResponse.text, 'html.parser')"
   ]
  },
  {
   "cell_type": "code",
   "execution_count": 7,
   "metadata": {
    "collapsed": true
   },
   "outputs": [],
   "source": [
    "# Navigate to article page\n",
    "browser.visit(jplURL)\n",
    "browser.click_link_by_partial_text('FULL IMAGE')\n",
    "time.sleep(3)\n",
    "browser.click_link_by_partial_text('more info')"
   ]
  },
  {
   "cell_type": "code",
   "execution_count": 8,
   "metadata": {},
   "outputs": [
    {
     "data": {
      "text/plain": [
       "'https://www.jpl.nasa.gov/spaceimages/images/largesize/PIA18847_hires.jpg'"
      ]
     },
     "execution_count": 8,
     "metadata": {},
     "output_type": "execute_result"
    }
   ],
   "source": [
    "# Get HTML from final page\n",
    "featureArticle = browser.html\n",
    "\n",
    "# Create BeautifulSoup object; parse with 'html.parser'\n",
    "jplSoup = bs(featureArticle,'html.parser')\n",
    "\n",
    "# Find image source tag\n",
    "featuredImg = jplSoup.find('figure', {'class' : 'lede'}).find('img')\n",
    "featuredImgSrc = featuredImg['src']\n",
    "\n",
    "# Create full URL\n",
    "featuredImgURL = 'https://www.jpl.nasa.gov' + featuredImgSrc \n",
    "\n",
    "featuredImgURL"
   ]
  },
  {
   "cell_type": "markdown",
   "metadata": {
    "collapsed": true
   },
   "source": [
    "#### Mars Weather\n",
    "Visit the Mars Weather twitter account [here](https://twitter.com/marswxreport?lang=en) and scrape the latest Mars weather tweet from the page. Save the tweet text for the weather report as a variable called mars_weather."
   ]
  },
  {
   "cell_type": "code",
   "execution_count": 9,
   "metadata": {
    "collapsed": true
   },
   "outputs": [],
   "source": [
    "# URL of page to be scraped\n",
    "twitterURL = 'https://twitter.com/marswxreport'\n",
    "\n",
    "# Retrieve page with the requests module\n",
    "twitterResponse = requests.get(twitterURL)\n",
    "# Create BeautifulSoup object; parse with 'html.parser'\n",
    "twitterSoup = bs(twitterResponse.text, 'html.parser')"
   ]
  },
  {
   "cell_type": "code",
   "execution_count": 10,
   "metadata": {
    "collapsed": true
   },
   "outputs": [],
   "source": [
    "newsTitle = nasaSoup.find('div', {'class' : 'content_title'}).find('a').get_text().strip()\n",
    "newsP = nasaSoup.find('div', {'class' : 'rollover_description_inner'}).get_text().strip()"
   ]
  },
  {
   "cell_type": "code",
   "execution_count": 11,
   "metadata": {},
   "outputs": [
    {
     "data": {
      "text/plain": [
       "'Sol 1967 (Feb 17, 2018), Sunny, high -15C/5F, low -76C/-104F, pressure at 7.34 hPa, daylight 05:39-17:26'"
      ]
     },
     "execution_count": 11,
     "metadata": {},
     "output_type": "execute_result"
    }
   ],
   "source": [
    "marsWeather = twitterSoup\\\n",
    "              .find('li', {'class' : 'stream-item'})\\\n",
    "              .find('div', {'class' : 'js-tweet-text-container'})\\\n",
    "              .get_text().strip()\n",
    "\n",
    "marsWeather"
   ]
  },
  {
   "cell_type": "markdown",
   "metadata": {},
   "source": [
    "#### Mars Facts\n",
    "- Visit the Mars Facts webpage [here](http://space-facts.com/mars/) and use Pandas to scrape the table containing facts about the planet including Diameter, Mass, etc.\n",
    "- Use Pandas to convert the data to a HTML table string."
   ]
  },
  {
   "cell_type": "code",
   "execution_count": 12,
   "metadata": {},
   "outputs": [
    {
     "data": {
      "text/plain": [
       "[                      0                              1\n",
       " 0  Equatorial Diameter:                       6,792 km\n",
       " 1       Polar Diameter:                       6,752 km\n",
       " 2                 Mass:  6.42 x 10^23 kg (10.7% Earth)\n",
       " 3                Moons:            2 (Phobos & Deimos)\n",
       " 4       Orbit Distance:       227,943,824 km (1.52 AU)\n",
       " 5         Orbit Period:           687 days (1.9 years)\n",
       " 6  Surface Temperature:                  -153 to 20 °C\n",
       " 7         First Record:              2nd millennium BC\n",
       " 8          Recorded By:           Egyptian astronomers]"
      ]
     },
     "execution_count": 12,
     "metadata": {},
     "output_type": "execute_result"
    }
   ],
   "source": [
    "# Read URL Tables using pandas\n",
    "factsURL = 'https://space-facts.com/mars/'\n",
    "tables = pd.read_html(factsURL)\n",
    "\n",
    "tables"
   ]
  },
  {
   "cell_type": "code",
   "execution_count": 13,
   "metadata": {},
   "outputs": [
    {
     "data": {
      "text/html": [
       "<div>\n",
       "<style>\n",
       "    .dataframe thead tr:only-child th {\n",
       "        text-align: right;\n",
       "    }\n",
       "\n",
       "    .dataframe thead th {\n",
       "        text-align: left;\n",
       "    }\n",
       "\n",
       "    .dataframe tbody tr th {\n",
       "        vertical-align: top;\n",
       "    }\n",
       "</style>\n",
       "<table border=\"1\" class=\"dataframe\">\n",
       "  <thead>\n",
       "    <tr style=\"text-align: right;\">\n",
       "      <th></th>\n",
       "      <th>Profile</th>\n",
       "      <th>Fact</th>\n",
       "    </tr>\n",
       "  </thead>\n",
       "  <tbody>\n",
       "    <tr>\n",
       "      <th>0</th>\n",
       "      <td>Equatorial Diameter:</td>\n",
       "      <td>6,792 km</td>\n",
       "    </tr>\n",
       "    <tr>\n",
       "      <th>1</th>\n",
       "      <td>Polar Diameter:</td>\n",
       "      <td>6,752 km</td>\n",
       "    </tr>\n",
       "    <tr>\n",
       "      <th>2</th>\n",
       "      <td>Mass:</td>\n",
       "      <td>6.42 x 10^23 kg (10.7% Earth)</td>\n",
       "    </tr>\n",
       "    <tr>\n",
       "      <th>3</th>\n",
       "      <td>Moons:</td>\n",
       "      <td>2 (Phobos &amp; Deimos)</td>\n",
       "    </tr>\n",
       "    <tr>\n",
       "      <th>4</th>\n",
       "      <td>Orbit Distance:</td>\n",
       "      <td>227,943,824 km (1.52 AU)</td>\n",
       "    </tr>\n",
       "  </tbody>\n",
       "</table>\n",
       "</div>"
      ],
      "text/plain": [
       "                Profile                           Fact\n",
       "0  Equatorial Diameter:                       6,792 km\n",
       "1       Polar Diameter:                       6,752 km\n",
       "2                 Mass:  6.42 x 10^23 kg (10.7% Earth)\n",
       "3                Moons:            2 (Phobos & Deimos)\n",
       "4       Orbit Distance:       227,943,824 km (1.52 AU)"
      ]
     },
     "execution_count": 13,
     "metadata": {},
     "output_type": "execute_result"
    }
   ],
   "source": [
    "# Make it into a dataframe\n",
    "df = tables[0]\n",
    "df.columns = ['Profile','Fact']\n",
    "\n",
    "df.head()"
   ]
  },
  {
   "cell_type": "code",
   "execution_count": 20,
   "metadata": {},
   "outputs": [
    {
     "data": {
      "text/plain": [
       "[{'Fact': '6,792 km', 'Profile': 'Equatorial Diameter:'},\n",
       " {'Fact': '6,752 km', 'Profile': 'Polar Diameter:'},\n",
       " {'Fact': '6.42 x 10^23 kg (10.7% Earth)', 'Profile': 'Mass:'},\n",
       " {'Fact': '2 (Phobos & Deimos)', 'Profile': 'Moons:'},\n",
       " {'Fact': '227,943,824 km (1.52 AU)', 'Profile': 'Orbit Distance:'},\n",
       " {'Fact': '687 days (1.9 years)', 'Profile': 'Orbit Period:'},\n",
       " {'Fact': '-153 to 20 °C', 'Profile': 'Surface Temperature:'},\n",
       " {'Fact': '2nd millennium BC', 'Profile': 'First Record:'},\n",
       " {'Fact': 'Egyptian astronomers', 'Profile': 'Recorded By:'}]"
      ]
     },
     "execution_count": 20,
     "metadata": {},
     "output_type": "execute_result"
    }
   ],
   "source": [
    "factsDict = df.to_dict('records')\n",
    "factsDict"
   ]
  },
  {
   "cell_type": "markdown",
   "metadata": {},
   "source": [
    "#### Mars Hemisperes\n",
    "- Visit the USGS Astrogeology site [here](https://astrogeology.usgs.gov/search/results?q=hemisphere+enhanced&k1=target&v1=Mars) to obtain high resolution images for each of Mar's hemispheres.\n",
    "- You will need to click each of the links to the hemispheres in order to find the image url to the full resolution image.\n",
    "- Save both the image url string for the full resolution hemipshere image, and the Hemisphere title containing the hemisphere name. Use a Python dictionary to store the data using the keys img_url and title.\n",
    "- Append the dictionary with the image url string and the hemisphere title to a list. This list will contain one dictionary for each hemisphere."
   ]
  },
  {
   "cell_type": "code",
   "execution_count": 15,
   "metadata": {
    "collapsed": true
   },
   "outputs": [],
   "source": [
    "usgsURL = 'https://astrogeology.usgs.gov/search/results?q=hemisphere+enhanced&k1=target&v1=Mars'\n",
    "\n",
    "# Retrieve page with the requests module\n",
    "usgsResponse = requests.get(usgsURL)\n",
    "# Create BeautifulSoup object; parse with 'html.parser'\n",
    "usgsSoup = bs(usgsResponse.text, 'html.parser')"
   ]
  },
  {
   "cell_type": "code",
   "execution_count": 16,
   "metadata": {
    "collapsed": true
   },
   "outputs": [],
   "source": [
    "# Find hemisphere listings\n",
    "usgsResults = usgsSoup.find_all('div', {'class' : 'item'})"
   ]
  },
  {
   "cell_type": "code",
   "execution_count": 17,
   "metadata": {},
   "outputs": [
    {
     "data": {
      "text/plain": [
       "[{'img_url': 'http://astropedia.astrogeology.usgs.gov/download/Mars/Viking/cerberus_enhanced.tif',\n",
       "  'title': 'Cerberus Hemisphere'},\n",
       " {'img_url': 'http://astropedia.astrogeology.usgs.gov/download/Mars/Viking/schiaparelli_enhanced.tif',\n",
       "  'title': 'Schiaparelli Hemisphere'},\n",
       " {'img_url': 'http://astropedia.astrogeology.usgs.gov/download/Mars/Viking/syrtis_major_enhanced.tif',\n",
       "  'title': 'Syrtis Major Hemisphere'},\n",
       " {'img_url': 'http://astropedia.astrogeology.usgs.gov/download/Mars/Viking/valles_marineris_enhanced.tif',\n",
       "  'title': 'Valles Marineris Hemisphere'}]"
      ]
     },
     "execution_count": 17,
     "metadata": {},
     "output_type": "execute_result"
    }
   ],
   "source": [
    "hemispherePhotos = []\n",
    "\n",
    "# Iterate through results and get hemisphere name and high-res image url\n",
    "for result in usgsResults:\n",
    "    # Create detail page URL\n",
    "    src = result.a['href']\n",
    "    url = 'https://astrogeology.usgs.gov' + src\n",
    "    \n",
    "    # Retrieve page with the requests module\n",
    "    response = requests.get(url)\n",
    "    # Create BeautifulSoup object; parse with 'html.parser'\n",
    "    soup = bs(response.text, 'html.parser')\n",
    "    \n",
    "    # Get Hemisphere name\n",
    "    hemisphere = soup.find('div', {'class' : 'content'}).h2.get_text().strip()\n",
    "    hemisphereName = hemisphere[:-9]\n",
    "    \n",
    "    # Get high-res image URL\n",
    "    downloads = soup.find('div', {'class' : 'downloads'}).find_all('li')\n",
    "    link = downloads[1].a['href']\n",
    "    \n",
    "    hemispherePhotos.append({'title' : hemisphereName,\n",
    "                             'img_url' : link})\n",
    "\n",
    "hemispherePhotos"
   ]
  },
  {
   "cell_type": "code",
   "execution_count": 21,
   "metadata": {
    "collapsed": true
   },
   "outputs": [],
   "source": [
    "marsinfo = {}\n",
    "\n",
    "marsinfo['latestnews'] = {'title' : newsTitle, 'subtitle': newsP}\n",
    "marsinfo['featuredimage'] = featuredImgURL\n",
    "marsinfo['weather'] = marsWeather\n",
    "marsinfo['planetfacts'] = factsDict\n",
    "marsinfo['hemispheres'] = hemispherePhotos"
   ]
  },
  {
   "cell_type": "code",
   "execution_count": 24,
   "metadata": {},
   "outputs": [
    {
     "name": "stdout",
     "output_type": "stream",
     "text": [
      "{   'featuredimage': 'https://www.jpl.nasa.gov/spaceimages/images/largesize/PIA18847_hires.jpg',\n",
      "    'hemispheres': [   {   'img_url': 'http://astropedia.astrogeology.usgs.gov/download/Mars/Viking/cerberus_enhanced.tif',\n",
      "                           'title': 'Cerberus Hemisphere'},\n",
      "                       {   'img_url': 'http://astropedia.astrogeology.usgs.gov/download/Mars/Viking/schiaparelli_enhanced.tif',\n",
      "                           'title': 'Schiaparelli Hemisphere'},\n",
      "                       {   'img_url': 'http://astropedia.astrogeology.usgs.gov/download/Mars/Viking/syrtis_major_enhanced.tif',\n",
      "                           'title': 'Syrtis Major Hemisphere'},\n",
      "                       {   'img_url': 'http://astropedia.astrogeology.usgs.gov/download/Mars/Viking/valles_marineris_enhanced.tif',\n",
      "                           'title': 'Valles Marineris Hemisphere'}],\n",
      "    'latestnews': {   'subtitle': 'A recent view from Mars orbit of the site '\n",
      "                                  \"where NASA's Phoenix Mars mission landed on \"\n",
      "                                  'far-northern Mars nearly a decade ago '\n",
      "                                  'captures changes.',\n",
      "                      'title': 'Nearly a Decade After Mars Phoenix Landed, '\n",
      "                               'Another Look'},\n",
      "    'planetfacts': [   {'Fact': '6,792 km', 'Profile': 'Equatorial Diameter:'},\n",
      "                       {'Fact': '6,752 km', 'Profile': 'Polar Diameter:'},\n",
      "                       {   'Fact': '6.42 x 10^23 kg (10.7% Earth)',\n",
      "                           'Profile': 'Mass:'},\n",
      "                       {'Fact': '2 (Phobos & Deimos)', 'Profile': 'Moons:'},\n",
      "                       {   'Fact': '227,943,824 km (1.52 AU)',\n",
      "                           'Profile': 'Orbit Distance:'},\n",
      "                       {   'Fact': '687 days (1.9 years)',\n",
      "                           'Profile': 'Orbit Period:'},\n",
      "                       {   'Fact': '-153 to 20 °C',\n",
      "                           'Profile': 'Surface Temperature:'},\n",
      "                       {   'Fact': '2nd millennium BC',\n",
      "                           'Profile': 'First Record:'},\n",
      "                       {   'Fact': 'Egyptian astronomers',\n",
      "                           'Profile': 'Recorded By:'}],\n",
      "    'weather': 'Sol 1967 (Feb 17, 2018), Sunny, high -15C/5F, low -76C/-104F, '\n",
      "               'pressure at 7.34 hPa, daylight 05:39-17:26'}\n"
     ]
    }
   ],
   "source": [
    "import pprint\n",
    "\n",
    "pp = pprint.PrettyPrinter(indent=4)\n",
    "pp.pprint(marsinfo)"
   ]
  },
  {
   "cell_type": "code",
   "execution_count": 26,
   "metadata": {},
   "outputs": [
    {
     "name": "stdout",
     "output_type": "stream",
     "text": [
      "Cerberus Hemisphere\n",
      "Schiaparelli Hemisphere\n",
      "Syrtis Major Hemisphere\n",
      "Valles Marineris Hemisphere\n"
     ]
    }
   ],
   "source": [
    "for hem in marsinfo['hemispheres']:\n",
    "    print(hem['title'])"
   ]
  },
  {
   "cell_type": "code",
   "execution_count": null,
   "metadata": {
    "collapsed": true
   },
   "outputs": [],
   "source": []
  }
 ],
 "metadata": {
  "kernelspec": {
   "display_name": "Python 3",
   "language": "python",
   "name": "python3"
  },
  "language_info": {
   "codemirror_mode": {
    "name": "ipython",
    "version": 3
   },
   "file_extension": ".py",
   "mimetype": "text/x-python",
   "name": "python",
   "nbconvert_exporter": "python",
   "pygments_lexer": "ipython3",
   "version": "3.6.3"
  }
 },
 "nbformat": 4,
 "nbformat_minor": 2
}
